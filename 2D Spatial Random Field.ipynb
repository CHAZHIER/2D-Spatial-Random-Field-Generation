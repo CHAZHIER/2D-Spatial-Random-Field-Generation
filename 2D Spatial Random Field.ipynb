{
 "cells": [
  {
   "cell_type": "markdown",
   "metadata": {},
   "source": [
    "For any question or feedback, please contact me [Peyman Ayoubi](https://payoubi.github.io/). This notebook is generated at part of my PhD research at [Caltech](https://www.caltech.edu/). \n",
    "\n",
    "#### This notebook generates a 2D spatial correlated random field. It first generates a grid of random numbers, transforms it to wavenumber domain, multiplies it with the assumed correlation function in the wavenumber domain, and transforms the product back to spatial domain. Required parameters are: \n",
    "    1) mean value. We use mean shear wave velocity of the medium (vs_mean) \n",
    "    2) correlation of variation (COV) by which standard deviation will be calculated (COV)\n",
    "    3) length scale in X (horizontal) and Z (vertical) directions (theta_x, theta_y)\n",
    "    4) correlation function (gaussian/exponential/von Karman)\n",
    "    5) Hurst exponent to be used for von Karman distribution (nu)\n",
    "    6) length of the domain for stochastic mesh (dx, dz) \n",
    "    7) element size for stochastic mesh (ix, iz)\n",
    "    \n",
    "The last two parameters can be replaced by information in a numerical PDE solver. This code is implemented in FEM code, SeismoVLAB, which is developed by [Danilo Kusanovic](https://www.linkedin.com/in/danilo-kusanovic-07547b2a/) and  [Elnaz Esmaeilzadeh Seylabi](https://www.unr.edu/cee/people/elnaz-esmaeilzadeh-seylabi), under supervision of Prof. [Domniki Asimaki](https://www.asimaki.caltech.edu/)"
   ]
  },
  {
   "cell_type": "code",
   "execution_count": 1,
   "metadata": {},
   "outputs": [],
   "source": [
    "import matplotlib.pylab as plt\n",
    "import numpy as np"
   ]
  },
  {
   "cell_type": "markdown",
   "metadata": {},
   "source": [
    "This cell fixs the seed. In order to be able to generate the exact same random field, the seed should be fixed. Different realizations of random field are equivalent to different seed numbers. "
   ]
  },
  {
   "cell_type": "code",
   "execution_count": 41,
   "metadata": {},
   "outputs": [],
   "source": [
    "np.random.seed(1)"
   ]
  },
  {
   "cell_type": "markdown",
   "metadata": {},
   "source": [
    "Initial parameters needed for the simulation. In the same order as above. "
   ]
  },
  {
   "cell_type": "code",
   "execution_count": 69,
   "metadata": {},
   "outputs": [],
   "source": [
    "vs_mean = 220 # mean shear wave velocity\n",
    "COV = 0.4 # coefficient of variation\n",
    "vs_std = COV * vs_mean # standard deviation of stochastic velocity field\n",
    "theta_x=10 # Horizontal length scale \n",
    "theta_z=2 # Vertical length scale \n",
    "autocorrelation_type = 'vonkarman' # type of autocorrelation function \"gaussian\", \"exponential\", \"vonkarman\"\n",
    "nu=0.2 # Hurst exponent\n",
    "ix=165 # size of model in same scale as theta_x\n",
    "iz=15 # size of model in same scale as theta_x\n",
    "dx=theta_x/5 #  Spatial distance\n",
    "dz=theta_z/5 #  Spatial distance"
   ]
  },
  {
   "cell_type": "markdown",
   "metadata": {},
   "source": [
    "This cell creates the stochastic mesh which will be replaced by FEM mesh in the SeismoVLAB code. This also gaurantees the number of grid points is even. "
   ]
  },
  {
   "cell_type": "code",
   "execution_count": 70,
   "metadata": {},
   "outputs": [],
   "source": [
    "nx=int(np.ceil(ix/dx))\n",
    "nz=int(np.ceil(iz/dz))\n",
    "\n",
    "\n",
    "if (nx/2)!=np.round(nx/2):\n",
    "    ddx=1 \n",
    "    nx=nx+ddx\n",
    "else:\n",
    "    ddx=0\n",
    "if (nz/2) != np.round(nz/2):\n",
    "    ddz=1\n",
    "    nz=nz+ddz \n",
    "else:\n",
    "    ddz=0\n",
    "    \n",
    "x=np.arange(0,nx)*dx \n",
    "z=np.arange(0,nz)*dz  \n",
    "\n",
    "length_x = nx*dx # domain length (X direction)\n",
    "length_z = nz*dz# domain width (Z direction)"
   ]
  },
  {
   "cell_type": "markdown",
   "metadata": {},
   "source": [
    "Preparating Fourier domain for 2D transform. "
   ]
  },
  {
   "cell_type": "code",
   "execution_count": 71,
   "metadata": {
    "scrolled": true
   },
   "outputs": [],
   "source": [
    "dkx = 2*np.pi/length_x \n",
    "dkz = 2*np.pi/length_z \n",
    "\n",
    "kx1 = np.arange(0,nx/2 + 1)*dkx\n",
    "kx1 = np.hstack((kx1,np.flipud(kx1[1:int(nx/2)])))\n",
    "\n",
    "kz1 = np.arange(0,nz/2 + 1)*dkz\n",
    "kz1 = np.hstack((kz1,np.flipud(kz1[1:int(nz/2)])))\n",
    "\n",
    "[kx,kz]=np.meshgrid(kx1, kz1, indexing='ij')\n",
    "\n",
    "k=np.sqrt(kx**2*theta_x**2+kz**2*theta_z**2) # wavenumber matrix "
   ]
  },
  {
   "cell_type": "markdown",
   "metadata": {},
   "source": [
    "Building the correlation matrix. Three correlation functions are included, namely gaussian, exponential and von Karman. Any other can be simply included here. "
   ]
  },
  {
   "cell_type": "code",
   "execution_count": 72,
   "metadata": {},
   "outputs": [],
   "source": [
    "if autocorrelation_type == 'gaussian':\n",
    "    auto_correl=(length_x*length_z*np.pi*theta_x*theta_z)*np.exp(-(k**2/4)) # PSD of autocorrelation function\n",
    "    auto_correl=np.sqrt(auto_correl)  # PSD to Fourier transform, Fourier transform is square root of PSD\n",
    "    \n",
    "if autocorrelation_type == 'exponential':\n",
    "    auto_correl=(length_x*length_z*np.pi*theta_x*theta_z)/(1+k**2)**1.5\n",
    "    auto_correl=np.sqrt(auto_correl)  # PSD to Fourier transform, Fourier transform is square root of PSD\n",
    "\n",
    "if autocorrelation_type == 'vonkarman':\n",
    "    auto_correl=(length_x*length_z*np.pi*theta_x*theta_z)/(1+k**2)**(nu+1)\n",
    "    auto_correl=np.sqrt(auto_correl)  # PSD to Fourier transform, Fourier transform is square root of PSD"
   ]
  },
  {
   "cell_type": "markdown",
   "metadata": {},
   "source": [
    "Generation of random numbers in a 2D grid of the size nx by nz. Different distribution, namely, normal, lognormal, uniforn, etc., can be used. "
   ]
  },
  {
   "cell_type": "code",
   "execution_count": 73,
   "metadata": {},
   "outputs": [],
   "source": [
    "random_data = np.random.normal(0, 1, (nx,nz)) # initial pdf generated by normal distribution \n",
    "random_data_transformed = (np.fft.fft2(random_data)) # transforming to wavenumber domain\n",
    "\n",
    "phase_information = np.angle(random_data_transformed) # getting phase information"
   ]
  },
  {
   "cell_type": "markdown",
   "metadata": {},
   "source": [
    "Image of generated random field"
   ]
  },
  {
   "cell_type": "code",
   "execution_count": 74,
   "metadata": {},
   "outputs": [
    {
     "data": {
      "image/png": "[encoded data removed]",
      "text/plain": [
       "<Figure size 1080x720 with 2 Axes>"
      ]
     },
     "metadata": {
      "needs_background": "light"
     },
     "output_type": "display_data"
    }
   ],
   "source": [
    "fig = plt.figure(figsize=(15, 10))\n",
    "axes = plt.gca()\n",
    "\n",
    "im = axes.imshow(np.transpose(random_data), cmap='jet', aspect='equal', extent=[min(x),max(x),min(z),max(z)], origin='lower')\n",
    "plt.rc('font', family='serif')\n",
    "axes.tick_params(direction='out', length=5, width=2,labelsize=16)\n",
    "axes.xaxis.labelpad = 22\n",
    "axes.yaxis.labelpad = 22\n",
    "fig.colorbar(im,shrink=0.3)\n",
    "plt.show()"
   ]
  },
  {
   "cell_type": "markdown",
   "metadata": {},
   "source": [
    "convolution in spatial domain is equivalent to multiplication in wavenumber domain, it is what's happening here. The matrix will then be transformed back to spatial domain and get scaled to the desired mean shear wave velocity and standard deviation. "
   ]
  },
  {
   "cell_type": "code",
   "execution_count": 79,
   "metadata": {},
   "outputs": [],
   "source": [
    "wavenumber_product = auto_correl*np.exp((1j)*phase_information)\n",
    "spatial_velocity = np.real((np.fft.ifft2(wavenumber_product)))*nx*nz\n",
    "spatial_velocity = spatial_velocity * dkx *dkz /((2*np.pi)**2)\n",
    "\n",
    "final_velocity_matrix = vs_mean + vs_std * spatial_velocity # transforming and stretching the output\n",
    "final_velocity_matrix = np.maximum(80., final_velocity_matrix) # limiting the minimum of velocity values to 80 m/s"
   ]
  },
  {
   "cell_type": "markdown",
   "metadata": {},
   "source": [
    "Image of final 2D spatially correlated field"
   ]
  },
  {
   "cell_type": "code",
   "execution_count": 80,
   "metadata": {},
   "outputs": [
    {
     "data": {
      "image/png": "[encoded data removed]",
      "text/plain": [
       "<Figure size 1080x720 with 2 Axes>"
      ]
     },
     "metadata": {
      "needs_background": "light"
     },
     "output_type": "display_data"
    }
   ],
   "source": [
    "fig = plt.figure(figsize=(15, 10))\n",
    "axes = plt.gca()\n",
    "\n",
    "im = axes.imshow(np.transpose(final_velocity_matrix), cmap='jet', aspect='equal', extent=[min(x),max(x),min(z),max(z)], origin='lower')\n",
    "plt.rc('font', family='serif')\n",
    "axes.tick_params(direction='out', length=5, width=2,labelsize=16)\n",
    "axes.xaxis.labelpad = 22\n",
    "axes.yaxis.labelpad = 22\n",
    "fig.colorbar(im,shrink=0.3)\n",
    "\n",
    "plt.show()"
   ]
  },
  {
   "cell_type": "markdown",
   "metadata": {},
   "source": [
    "### Refernces\n",
    "There are numerous articles about the subject but I've found these ones more relevant to geophysical applications. \n",
    "\n",
    "    1) Goff, J. A., & Jordan, T. H. (1989). Stochastic modeling of seafloor morphology: A parameterized Gaussian model. Geophysical Research Letters, 16(1), 45-48.\n",
    "    2) Levander, A., England, R. W., Smith, S. K., Hobbs, R. W., Goff, J. A., & Holliger, K. (1994). Stochastic characterization and seismic response of upper and middle crustal rocks based on the Lewisian gneiss complex, Scotland. Geophysical Journal International, 119(1), 243-259.\n",
    "    3) Goff, J. A., Holliger, K., & Levander, A. (1994). Modal fields: A new method for characterization of random seismic velocity heterogeneity. Geophysical Research Letters, 21(6), 493-496.\n",
    "    4) Mai, P. M., & Beroza, G. C. (2002). A spatial random field model to characterize complexity in earthquake slip. Journal of Geophysical Research: Solid Earth, 107(B11), ESE-10.\n",
    "    5) Nakata, N., & Beroza, G. C. (2015). Stochastic characterization of mesoscale seismic velocity heterogeneity in Long Beach, California. Geophysical Supplements to the Monthly Notices of the Royal Astronomical Society, 203(3), 2049-2054.\n",
    "    6) Li, J., & Zheng, Y. (2019). Generation of a stochastic binary field that fits a given heterogeneity power spectrum. Geophysical Journal International, 217(1), 294-300."
   ]
  },
  {
   "cell_type": "markdown",
   "metadata": {},
   "source": [
    "### Final note"
   ]
  },
  {
   "cell_type": "markdown",
   "metadata": {},
   "source": [
    "There are many other methods to generate such a random field. One may use covariance matrices (similar to correlation matrices used above) without transferring it to wavenumber domain and use methods like Cholesky decomposition to produce a correlated random field. Moreover, Gaussian Process-like (GP) or Gaussian free field methods are also available. "
   ]
  }
 ],
 "metadata": {
  "kernelspec": {
   "display_name": "Python 3",
   "language": "python",
   "name": "python3"
  },
  "language_info": {
   "codemirror_mode": {
    "name": "ipython",
    "version": 3
   },
   "file_extension": ".py",
   "mimetype": "text/x-python",
   "name": "python",
   "nbconvert_exporter": "python",
   "pygments_lexer": "ipython3",
   "version": "3.7.3"
  }
 },
 "nbformat": 4,
 "nbformat_minor": 2
}
